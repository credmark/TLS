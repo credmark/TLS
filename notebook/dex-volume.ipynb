{
 "cells": [
  {
   "cell_type": "code",
   "execution_count": 1,
   "metadata": {},
   "outputs": [],
   "source": [
    "from credmark.cmf.ipython import create_cmf\n",
    "from credmark.cmf.types import (Address, BlockNumber, Contract, Token, Portfolio, PriceWithQuote)\n",
    "from credmark.cmf.types.data.fiat_currency_data import FIAT_CURRENCY_DATA_BY_SYMBOL\n",
    "from credmark.cmf.model.errors import ModelRunError, ModelDataError\n",
    "from web3 import HTTPProvider, Web3\n",
    "from datetime import datetime, timezone, timedelta\n",
    "\n",
    "cmf_param = {\n",
    "                'block_number': None,\n",
    "                'chain_to_provider_url': {'1': 'http://192.168.68.122:8545'},\n",
    "                'api_url': 'http://192.168.68.122:8700',\n",
    "                'use_local_models': '-', # use local to speed up\n",
    "            }\n",
    "\n",
    "# When using fill_db_evt in a loop, create cmf context outside the loop and sent _cmf_param = None\n",
    "# When using fill_db_evt standalone, either 1) create cmf context outside the loop and sent _cmf_param = None, 2) sent in non-None cmf_param.\n",
    "context, _model_loader = create_cmf(cmf_param)\n",
    "context._web3 = Web3(HTTPProvider(context.web3.provider.endpoint_uri, request_kwargs={'timeout': 3600 * 10}))\n",
    "context._web3.eth.default_block = int(context.block_number)\n",
    "end_block = int(context.block_number)"
   ]
  },
  {
   "cell_type": "code",
   "execution_count": 3,
   "metadata": {},
   "outputs": [],
   "source": [
    "crv_pairs = context.run_model('pools.token-dex-db', {'address': '0xD533a949740bb3306d119CC777fa900bA034cd52'})"
   ]
  },
  {
   "cell_type": "code",
   "execution_count": 10,
   "metadata": {},
   "outputs": [
    {
     "data": {
      "text/plain": [
       "[0,\n",
       " 0,\n",
       " -913.5203943576198,\n",
       " 574.7721102676369,\n",
       " -9557.048454120755,\n",
       " 3408372.5289410353,\n",
       " 2437226.930639684,\n",
       " 4868144.001858264,\n",
       " -38442.342659337446,\n",
       " 584161.3075685208,\n",
       " 440738.1941307393,\n",
       " -402275.626591798,\n",
       " 4006112.7145180786,\n",
       " -662.7133899332052,\n",
       " -103.8530923090857]"
      ]
     },
     "execution_count": 10,
     "metadata": {},
     "output_type": "execute_result"
    }
   ],
   "source": [
    "crv_pools = context.run_model('pools.dex-db', crv_pairs, block_number = 15945743)\n",
    "\n",
    "[p['token0_in'] - p['token0_out']\n",
    "    if p['token0_address'] == '0xD533a949740bb3306d119CC777fa900bA034cd52'.lower()\n",
    "    else p['token1_in'] - p['token1_out']\n",
    "    for p in crv_pools['results']]\n"
   ]
  }
 ],
 "metadata": {
  "kernelspec": {
   "display_name": "cmk310",
   "language": "python",
   "name": "python3"
  },
  "language_info": {
   "codemirror_mode": {
    "name": "ipython",
    "version": 3
   },
   "file_extension": ".py",
   "mimetype": "text/x-python",
   "name": "python",
   "nbconvert_exporter": "python",
   "pygments_lexer": "ipython3",
   "version": "3.10.8 | packaged by conda-forge | (main, Nov 22 2022, 08:26:04) [GCC 10.4.0]"
  },
  "orig_nbformat": 4,
  "vscode": {
   "interpreter": {
    "hash": "ef3060a66f05e685ce670116a67026aba95afdffb2461d829b3351d07ec51c58"
   }
  }
 },
 "nbformat": 4,
 "nbformat_minor": 2
}
